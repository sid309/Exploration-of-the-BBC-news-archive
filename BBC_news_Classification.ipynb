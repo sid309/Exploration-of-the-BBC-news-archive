{
  "nbformat": 4,
  "nbformat_minor": 0,
  "metadata": {
    "colab": {
      "name": "BBC news Classification.ipynb",
      "provenance": []
    },
    "kernelspec": {
      "name": "python3",
      "display_name": "Python 3"
    },
    "language_info": {
      "name": "python"
    },
    "accelerator": "GPU"
  },
  "cells": [
    {
      "cell_type": "code",
      "metadata": {
        "id": "psGfgaFKTfIk"
      },
      "source": [
        "import csv\n",
        "import tensorflow as tf\n",
        "import numpy as np\n",
        "from tensorflow.keras.preprocessing.text import Tokenizer\n",
        "from tensorflow.keras.preprocessing.sequence import pad_sequences"
      ],
      "execution_count": 30,
      "outputs": []
    },
    {
      "cell_type": "code",
      "metadata": {
        "colab": {
          "base_uri": "https://localhost:8080/",
          "height": 36
        },
        "id": "wzgGGtY16gG1",
        "outputId": "f4762c47-9014-46e3-84b2-03fd5f6d2abb"
      },
      "source": [
        "tf.__version__"
      ],
      "execution_count": 31,
      "outputs": [
        {
          "output_type": "execute_result",
          "data": {
            "application/vnd.google.colaboratory.intrinsic+json": {
              "type": "string"
            },
            "text/plain": [
              "'2.6.0'"
            ]
          },
          "metadata": {},
          "execution_count": 31
        }
      ]
    },
    {
      "cell_type": "code",
      "metadata": {
        "colab": {
          "base_uri": "https://localhost:8080/"
        },
        "id": "cE9K5H6RpSEU",
        "outputId": "88696e88-7752-48f6-e92c-bed89d31d573"
      },
      "source": [
        "!gdown --id 1rX10xeI3eUJmOLsc4pOPY6AnCLO8DxNj"
      ],
      "execution_count": 32,
      "outputs": [
        {
          "output_type": "stream",
          "text": [
            "Downloading...\n",
            "From: https://drive.google.com/uc?id=1rX10xeI3eUJmOLsc4pOPY6AnCLO8DxNj\n",
            "To: /content/bbc-text.csv\n",
            "5.06MB [00:00, 16.1MB/s]\n"
          ],
          "name": "stdout"
        }
      ]
    },
    {
      "cell_type": "code",
      "metadata": {
        "id": "riq2xP5-pUsS"
      },
      "source": [
        "vocab_size=1000\n",
        "embedding_dim=16\n",
        "max_length=120\n",
        "trunc_type='post' \n",
        "padding_type='post'\n",
        "oov_tok=\"<OOV>\"\n",
        "training_portion=0.8"
      ],
      "execution_count": 33,
      "outputs": []
    },
    {
      "cell_type": "code",
      "metadata": {
        "colab": {
          "base_uri": "https://localhost:8080/"
        },
        "id": "86A7TwczpYVR",
        "outputId": "80986ba4-242c-4744-afd5-8aa9352fa026"
      },
      "source": [
        "sentences = []\n",
        "labels = []\n",
        "stopwords = [ \"a\", \"about\", \"above\", \"after\", \"again\", \"against\", \"all\", \"am\", \"an\", \"and\", \"any\", \"are\", \"as\", \"at\", \"be\", \"because\", \"been\", \"before\", \"being\", \"below\", \"between\", \"both\", \"but\", \"by\", \"could\", \"did\", \"do\", \"does\", \"doing\", \"down\", \"during\", \"each\", \"few\", \"for\", \"from\", \"further\", \"had\", \"has\", \"have\", \"having\", \"he\", \"he'd\", \"he'll\", \"he's\", \"her\", \"here\", \"here's\", \"hers\", \"herself\", \"him\", \"himself\", \"his\", \"how\", \"how's\", \"i\", \"i'd\", \"i'll\", \"i'm\", \"i've\", \"if\", \"in\", \"into\", \"is\", \"it\", \"it's\", \"its\", \"itself\", \"let's\", \"me\", \"more\", \"most\", \"my\", \"myself\", \"nor\", \"of\", \"on\", \"once\", \"only\", \"or\", \"other\", \"ought\", \"our\", \"ours\", \"ourselves\", \"out\", \"over\", \"own\", \"same\", \"she\", \"she'd\", \"she'll\", \"she's\", \"should\", \"so\", \"some\", \"such\", \"than\", \"that\", \"that's\", \"the\", \"their\", \"theirs\", \"them\", \"themselves\", \"then\", \"there\", \"there's\", \"these\", \"they\", \"they'd\", \"they'll\", \"they're\", \"they've\", \"this\", \"those\", \"through\", \"to\", \"too\", \"under\", \"until\", \"up\", \"very\", \"was\", \"we\", \"we'd\", \"we'll\", \"we're\", \"we've\", \"were\", \"what\", \"what's\", \"when\", \"when's\", \"where\", \"where's\", \"which\", \"while\", \"who\", \"who's\", \"whom\", \"why\", \"why's\", \"with\", \"would\", \"you\", \"you'd\", \"you'll\", \"you're\", \"you've\", \"your\", \"yours\", \"yourself\", \"yourselves\" ]\n",
        "print(len(stopwords))"
      ],
      "execution_count": 34,
      "outputs": [
        {
          "output_type": "stream",
          "text": [
            "153\n"
          ],
          "name": "stdout"
        }
      ]
    },
    {
      "cell_type": "code",
      "metadata": {
        "colab": {
          "base_uri": "https://localhost:8080/"
        },
        "id": "WoL7pGQ2p1KU",
        "outputId": "55bc7e36-abb3-4f13-d0c9-a18077cafdd6"
      },
      "source": [
        "with open(\"./bbc-text.csv\", 'r') as csvfile:\n",
        "    reader = csv.reader(csvfile, delimiter=',')\n",
        "    next(reader)\n",
        "    for row in reader:\n",
        "        labels.append(row[0])\n",
        "        sentence = row[1]\n",
        "        for word in stopwords:\n",
        "            token = \" \" + word + \" \"\n",
        "            sentence = sentence.replace(token, \" \")\n",
        "        sentences.append(sentence)\n",
        "\n",
        "print(len(labels))\n",
        "print(len(sentences))\n",
        "print(sentences[0])"
      ],
      "execution_count": 35,
      "outputs": [
        {
          "output_type": "stream",
          "text": [
            "2225\n",
            "2225\n",
            "tv future hands viewers home theatre systems  plasma high-definition tvs  digital video recorders moving living room  way people watch tv will radically different five years  time.  according expert panel gathered annual consumer electronics show las vegas discuss new technologies will impact one favourite pastimes. us leading trend  programmes content will delivered viewers via home networks  cable  satellite  telecoms companies  broadband service providers front rooms portable devices.  one talked-about technologies ces digital personal video recorders (dvr pvr). set-top boxes  like us s tivo uk s sky+ system  allow people record  store  play  pause forward wind tv programmes want.  essentially  technology allows much personalised tv. also built-in high-definition tv sets  big business japan us  slower take off europe lack high-definition programming. not can people forward wind adverts  can also forget abiding network channel schedules  putting together a-la-carte entertainment. us networks cable satellite companies worried means terms advertising revenues well  brand identity  viewer loyalty channels. although us leads technology moment  also concern raised europe  particularly growing uptake services like sky+.  happens today  will see nine months years  time uk   adam hume  bbc broadcast s futurologist told bbc news website. likes bbc  no issues lost advertising revenue yet. pressing issue moment commercial uk broadcasters  brand loyalty important everyone.  will talking content brands rather network brands   said tim hanlon  brand communications firm starcom mediavest.  reality broadband connections  anybody can producer content.  added:  challenge now hard promote programme much choice.   means  said stacey jolna  senior vice president tv guide tv group  way people find content want watch simplified tv viewers. means networks  us terms  channels take leaf google s book search engine future  instead scheduler help people find want watch. kind channel model might work younger ipod generation used taking control gadgets play them. might not suit everyone  panel recognised. older generations comfortable familiar schedules channel brands know getting. perhaps not want much choice put hands  mr hanlon suggested.  end  kids just diapers pushing buttons already - everything possible available   said mr hanlon.  ultimately  consumer will tell market want.   50 000 new gadgets technologies showcased ces  many enhancing tv-watching experience. high-definition tv sets everywhere many new models lcd (liquid crystal display) tvs launched dvr capability built  instead external boxes. one example launched show humax s 26-inch lcd tv 80-hour tivo dvr dvd recorder. one us s biggest satellite tv companies  directtv  even launched branded dvr show 100-hours recording capability  instant replay  search function. set can pause rewind tv 90 hours. microsoft chief bill gates announced pre-show keynote speech partnership tivo  called tivotogo  means people can play recorded programmes windows pcs mobile devices. reflect increasing trend freeing multimedia people can watch want  want.\n"
          ],
          "name": "stdout"
        }
      ]
    },
    {
      "cell_type": "code",
      "metadata": {
        "colab": {
          "base_uri": "https://localhost:8080/"
        },
        "id": "RroT_iNitzGU",
        "outputId": "c534daa5-0dde-4c27-ce21-e490fec07505"
      },
      "source": [
        "train_size=int(training_portion*len(sentences))\n",
        "train_sentences=sentences[0:train_size]\n",
        "train_labels=labels[0:train_size]\n",
        "validation_sentences=sentences[train_size:]\n",
        "validation_labels=labels[train_size:]\n",
        "\n",
        "print(train_size)\n",
        "print(len(train_sentences))\n",
        "print(len(train_labels))\n",
        "print(len(validation_sentences))\n",
        "print(len(validation_labels))"
      ],
      "execution_count": 36,
      "outputs": [
        {
          "output_type": "stream",
          "text": [
            "1780\n",
            "1780\n",
            "1780\n",
            "445\n",
            "445\n"
          ],
          "name": "stdout"
        }
      ]
    },
    {
      "cell_type": "code",
      "metadata": {
        "colab": {
          "base_uri": "https://localhost:8080/"
        },
        "id": "o0qJPMcnux9c",
        "outputId": "0a76a2b1-a2ee-4ba8-cd76-99d787ef7732"
      },
      "source": [
        "tokenizer=Tokenizer(num_words=vocab_size,oov_token=oov_tok)\n",
        "tokenizer.fit_on_texts(train_sentences)\n",
        "word_index=tokenizer.word_index\n",
        "train_sequences=tokenizer.texts_to_sequences(train_sentences)\n",
        "train_padded=pad_sequences(train_sequences,maxlen=max_length,padding=padding_type,truncating=trunc_type)\n",
        "\n",
        "print(len(train_sequences[0]))\n",
        "print(len(train_padded[0]))\n",
        "\n",
        "print(len(train_sequences[1]))\n",
        "print(len(train_padded[1]))\n",
        "\n",
        "print(len(train_sequences[10]))\n",
        "print(len(train_padded[10]))"
      ],
      "execution_count": 45,
      "outputs": [
        {
          "output_type": "stream",
          "text": [
            "449\n",
            "120\n",
            "200\n",
            "120\n",
            "192\n",
            "120\n"
          ],
          "name": "stdout"
        }
      ]
    },
    {
      "cell_type": "code",
      "metadata": {
        "colab": {
          "base_uri": "https://localhost:8080/"
        },
        "id": "XtH7-ZtvvfjJ",
        "outputId": "1d17d26b-b6c5-4965-9cec-6101c8136c96"
      },
      "source": [
        "validation_sequences=tokenizer.texts_to_sequences(validation_sentences)\n",
        "validation_padded=pad_sequences(validation_sequences,padding=padding_type,maxlen=max_length)\n",
        "\n",
        "print(len(validation_sequences))\n",
        "print(validation_padded.shape)"
      ],
      "execution_count": 49,
      "outputs": [
        {
          "output_type": "stream",
          "text": [
            "445\n",
            "(445, 120)\n"
          ],
          "name": "stdout"
        }
      ]
    },
    {
      "cell_type": "code",
      "metadata": {
        "colab": {
          "base_uri": "https://localhost:8080/"
        },
        "id": "jsGzqOt8wIU_",
        "outputId": "f3e2316d-1e3d-4d28-b3ab-277a9eb0ea9b"
      },
      "source": [
        "label_tokenizer=Tokenizer()\n",
        "label_tokenizer.fit_on_texts(labels)\n",
        "training_label_seq=np.array(label_tokenizer.texts_to_sequences(train_labels))\n",
        "validation_label_seq=np.array(label_tokenizer.texts_to_sequences(validation_labels))\n",
        "\n",
        "print(training_label_seq[0])\n",
        "print(training_label_seq[1])\n",
        "print(training_label_seq[2])\n",
        "print(training_label_seq.shape)\n",
        "\n",
        "print(validation_label_seq[0])\n",
        "print(validation_label_seq[1])\n",
        "print(validation_label_seq[2])\n",
        "print(validation_label_seq.shape)"
      ],
      "execution_count": 53,
      "outputs": [
        {
          "output_type": "stream",
          "text": [
            "[4]\n",
            "[2]\n",
            "[1]\n",
            "(1780, 1)\n",
            "[5]\n",
            "[4]\n",
            "[3]\n",
            "(445, 1)\n"
          ],
          "name": "stdout"
        }
      ]
    },
    {
      "cell_type": "code",
      "metadata": {
        "colab": {
          "base_uri": "https://localhost:8080/"
        },
        "id": "Vjsx3qrlw2Jl",
        "outputId": "5244c02c-6242-4a6b-b9dd-4d40275de3bf"
      },
      "source": [
        "model = tf.keras.Sequential([\n",
        "                             tf.keras.layers.Embedding(vocab_size,embedding_dim,input_length=max_length),\n",
        "                             tf.keras.layers.GlobalAveragePooling1D(),\n",
        "                             tf.keras.layers.Dense(24,activation='relu'),\n",
        "                             tf.keras.layers.Dense(6,activation='sigmoid')\n",
        "])\n",
        "model.compile(loss='sparse_categorical_crossentropy',optimizer='adam',metrics=['accuracy'])\n",
        "model.summary()"
      ],
      "execution_count": 54,
      "outputs": [
        {
          "output_type": "stream",
          "text": [
            "Model: \"sequential_4\"\n",
            "_________________________________________________________________\n",
            "Layer (type)                 Output Shape              Param #   \n",
            "=================================================================\n",
            "embedding_4 (Embedding)      (None, 120, 16)           16000     \n",
            "_________________________________________________________________\n",
            "global_average_pooling1d_4 ( (None, 16)                0         \n",
            "_________________________________________________________________\n",
            "dense_8 (Dense)              (None, 24)                408       \n",
            "_________________________________________________________________\n",
            "dense_9 (Dense)              (None, 6)                 150       \n",
            "=================================================================\n",
            "Total params: 16,558\n",
            "Trainable params: 16,558\n",
            "Non-trainable params: 0\n",
            "_________________________________________________________________\n"
          ],
          "name": "stdout"
        }
      ]
    },
    {
      "cell_type": "code",
      "metadata": {
        "colab": {
          "base_uri": "https://localhost:8080/"
        },
        "id": "aNpgEZqnzwp9",
        "outputId": "ba53d4ff-97e0-413d-df15-ed78d28ad497"
      },
      "source": [
        "history = model.fit(train_padded,training_label_seq,epochs=30,validation_data=(validation_padded,validation_label_seq),verbose=2)"
      ],
      "execution_count": 56,
      "outputs": [
        {
          "output_type": "stream",
          "text": [
            "Epoch 1/30\n",
            "56/56 - 1s - loss: 1.7658 - accuracy: 0.2427 - val_loss: 1.7338 - val_accuracy: 0.2270\n",
            "Epoch 2/30\n",
            "56/56 - 0s - loss: 1.6824 - accuracy: 0.2388 - val_loss: 1.6422 - val_accuracy: 0.2337\n",
            "Epoch 3/30\n",
            "56/56 - 0s - loss: 1.5663 - accuracy: 0.3056 - val_loss: 1.5257 - val_accuracy: 0.4090\n",
            "Epoch 4/30\n",
            "56/56 - 0s - loss: 1.4113 - accuracy: 0.5320 - val_loss: 1.3672 - val_accuracy: 0.5730\n",
            "Epoch 5/30\n",
            "56/56 - 0s - loss: 1.2061 - accuracy: 0.7090 - val_loss: 1.1694 - val_accuracy: 0.7056\n",
            "Epoch 6/30\n",
            "56/56 - 0s - loss: 0.9711 - accuracy: 0.8360 - val_loss: 0.9609 - val_accuracy: 0.8247\n",
            "Epoch 7/30\n",
            "56/56 - 0s - loss: 0.7485 - accuracy: 0.9152 - val_loss: 0.7753 - val_accuracy: 0.8787\n",
            "Epoch 8/30\n",
            "56/56 - 0s - loss: 0.5634 - accuracy: 0.9489 - val_loss: 0.6281 - val_accuracy: 0.9146\n",
            "Epoch 9/30\n",
            "56/56 - 0s - loss: 0.4268 - accuracy: 0.9601 - val_loss: 0.5221 - val_accuracy: 0.9213\n",
            "Epoch 10/30\n",
            "56/56 - 0s - loss: 0.3313 - accuracy: 0.9652 - val_loss: 0.4463 - val_accuracy: 0.9213\n",
            "Epoch 11/30\n",
            "56/56 - 0s - loss: 0.2660 - accuracy: 0.9691 - val_loss: 0.3889 - val_accuracy: 0.9326\n",
            "Epoch 12/30\n",
            "56/56 - 0s - loss: 0.2182 - accuracy: 0.9747 - val_loss: 0.3476 - val_accuracy: 0.9303\n",
            "Epoch 13/30\n",
            "56/56 - 0s - loss: 0.1823 - accuracy: 0.9781 - val_loss: 0.3203 - val_accuracy: 0.9348\n",
            "Epoch 14/30\n",
            "56/56 - 0s - loss: 0.1552 - accuracy: 0.9798 - val_loss: 0.2935 - val_accuracy: 0.9303\n",
            "Epoch 15/30\n",
            "56/56 - 0s - loss: 0.1335 - accuracy: 0.9826 - val_loss: 0.2749 - val_accuracy: 0.9348\n",
            "Epoch 16/30\n",
            "56/56 - 0s - loss: 0.1155 - accuracy: 0.9843 - val_loss: 0.2642 - val_accuracy: 0.9348\n",
            "Epoch 17/30\n",
            "56/56 - 0s - loss: 0.1029 - accuracy: 0.9865 - val_loss: 0.2472 - val_accuracy: 0.9303\n",
            "Epoch 18/30\n",
            "56/56 - 0s - loss: 0.0898 - accuracy: 0.9899 - val_loss: 0.2373 - val_accuracy: 0.9348\n",
            "Epoch 19/30\n",
            "56/56 - 0s - loss: 0.0796 - accuracy: 0.9910 - val_loss: 0.2279 - val_accuracy: 0.9371\n",
            "Epoch 20/30\n",
            "56/56 - 0s - loss: 0.0706 - accuracy: 0.9933 - val_loss: 0.2212 - val_accuracy: 0.9393\n",
            "Epoch 21/30\n",
            "56/56 - 0s - loss: 0.0630 - accuracy: 0.9938 - val_loss: 0.2155 - val_accuracy: 0.9348\n",
            "Epoch 22/30\n",
            "56/56 - 0s - loss: 0.0566 - accuracy: 0.9944 - val_loss: 0.2126 - val_accuracy: 0.9348\n",
            "Epoch 23/30\n",
            "56/56 - 0s - loss: 0.0504 - accuracy: 0.9955 - val_loss: 0.2071 - val_accuracy: 0.9371\n",
            "Epoch 24/30\n",
            "56/56 - 0s - loss: 0.0455 - accuracy: 0.9961 - val_loss: 0.2043 - val_accuracy: 0.9393\n",
            "Epoch 25/30\n",
            "56/56 - 0s - loss: 0.0410 - accuracy: 0.9983 - val_loss: 0.2002 - val_accuracy: 0.9371\n",
            "Epoch 26/30\n",
            "56/56 - 0s - loss: 0.0369 - accuracy: 0.9983 - val_loss: 0.1966 - val_accuracy: 0.9393\n",
            "Epoch 27/30\n",
            "56/56 - 0s - loss: 0.0333 - accuracy: 0.9983 - val_loss: 0.1951 - val_accuracy: 0.9348\n",
            "Epoch 28/30\n",
            "56/56 - 0s - loss: 0.0305 - accuracy: 0.9994 - val_loss: 0.1943 - val_accuracy: 0.9371\n",
            "Epoch 29/30\n",
            "56/56 - 0s - loss: 0.0275 - accuracy: 0.9994 - val_loss: 0.1907 - val_accuracy: 0.9371\n",
            "Epoch 30/30\n",
            "56/56 - 0s - loss: 0.0248 - accuracy: 1.0000 - val_loss: 0.1885 - val_accuracy: 0.9393\n"
          ],
          "name": "stdout"
        }
      ]
    },
    {
      "cell_type": "code",
      "metadata": {
        "colab": {
          "base_uri": "https://localhost:8080/",
          "height": 541
        },
        "id": "UYx6TcKDz_pq",
        "outputId": "f21ce331-51c7-4d47-a07a-561f10c7f2e2"
      },
      "source": [
        "import matplotlib.pyplot as plt\n",
        "\n",
        "\n",
        "def plot_graphs(history, string):\n",
        "  plt.plot(history.history[string])\n",
        "  plt.plot(history.history['val_'+string])\n",
        "  plt.xlabel(\"Epochs\")\n",
        "  plt.ylabel(string)\n",
        "  plt.legend([string, 'val_'+string])\n",
        "  plt.show()\n",
        "  \n",
        "plot_graphs(history, \"accuracy\")\n",
        "plot_graphs(history, \"loss\")"
      ],
      "execution_count": 57,
      "outputs": [
        {
          "output_type": "display_data",
          "data": {
            "image/png": "[encoded data removed]",
            "text/plain": [
              "<Figure size 432x288 with 1 Axes>"
            ]
          },
          "metadata": {
            "needs_background": "light"
          }
        },
        {
          "output_type": "display_data",
          "data": {
            "image/png": "[encoded data removed]",
            "text/plain": [
              "<Figure size 432x288 with 1 Axes>"
            ]
          },
          "metadata": {
            "needs_background": "light"
          }
        }
      ]
    },
    {
      "cell_type": "code",
      "metadata": {
        "id": "fQIevmBy1Jgh"
      },
      "source": [
        ""
      ],
      "execution_count": 14,
      "outputs": []
    }
  ]
}